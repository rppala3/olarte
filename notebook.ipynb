{
 "cells": [
  {
   "cell_type": "code",
   "execution_count": 2,
   "metadata": {},
   "outputs": [
    {
     "name": "stdout",
     "output_type": "stream",
     "text": [
      "@prefix iso_1234: <http://olarte.org/ISO:1234/> .\n",
      "@prefix owl: <http://www.w3.org/2002/07/owl#> .\n",
      "@prefix rdfs: <http://www.w3.org/2000/01/rdf-schema#> .\n",
      "\n",
      "iso_1234:hasParent a owl:ObjectProperty ;\n",
      "    rdfs:range iso_1234:Concept .\n",
      "\n",
      "iso_1234:Concept a owl:Class .\n",
      "\n",
      "\n"
     ]
    }
   ],
   "source": [
    "from rdflib import OWL, RDF, RDFS, Graph, Namespace, URIRef\n",
    "\n",
    "ISO = Namespace('http://olarte.org/ISO:1234/')\n",
    "\n",
    "onto = Graph()\n",
    "onto.bind('iso_1234', ISO)\n",
    "onto.add((ISO.Concept, RDF.type, OWL.Class))\n",
    "# onto.add((ISO.hasLabel, RDF.type, OWL...)) # TODO\n",
    "onto.add((ISO.hasParent, RDF.type, OWL.ObjectProperty))\n",
    "# onto.add((ISO.hasParent, RDFS.domain, ISO.Concept))\n",
    "onto.add((ISO.hasParent, RDFS.range, ISO.Concept))\n",
    "\"\"\"\n",
    "In more simple terms: \"Mother\" (domain) hasChild \"Child\" (range).\n",
    "A more complex example is the Child-Parent relationshipt:\n",
    "  \"Child\" (domain) hasParent \"Mother\", \"Father\" (range).\n",
    "Here you have two parents (objects), which are pointed by the child (subject)\n",
    "\"\"\"\n",
    "\n",
    "print(onto.serialize(format='ttl'))"
   ]
  },
  {
   "cell_type": "code",
   "execution_count": 13,
   "metadata": {},
   "outputs": [
    {
     "name": "stdout",
     "output_type": "stream",
     "text": [
      "@prefix iso_1234: <http://olarte.org/ISO:1234/> .\n",
      "@prefix rdfs: <http://www.w3.org/2000/01/rdf-schema#> .\n",
      "\n",
      "iso_1234:71EAD37F18F34 a iso_1234:Concept ;\n",
      "    rdfs:label \"adaptive item type\"@en ;\n",
      "    iso_1234:hasParent iso_1234:71CE7A72B6DA7 .\n",
      "\n",
      "iso_1234:71CE7A72B6DA7 a iso_1234:Concept ;\n",
      "    rdfs:label \"cutting tool library\"@en .\n",
      "\n",
      "\n"
     ]
    }
   ],
   "source": [
    "from rdflib import RDF, Graph, Literal, Namespace, URIRef\n",
    "\n",
    "ISO = Namespace('http://olarte.org/ISO:1234/')\n",
    "\n",
    "g = Graph()\n",
    "g.bind('iso_1234', ISO)\n",
    "\n",
    "label01 = 'cutting tool library'\n",
    "concept01 = URIRef('71CE7A72B6DA7', ISO)\n",
    "g.add((concept01, RDF.type, ISO.Concept))\n",
    "g.add((concept01, RDFS.label, Literal(label01, lang=\"en\")))\n",
    "\n",
    "label02 = 'adaptive item type'\n",
    "concept02 = URIRef('71EAD37F18F34', ISO)\n",
    "g.add((concept02, RDF.type, ISO.Concept))\n",
    "g.add((concept02, RDFS.label, Literal(label02, lang=\"en\")))\n",
    "g.add((concept02, ISO.hasParent, concept01))\n",
    "\n",
    "print(g.serialize(format='ttl'))"
   ]
  }
 ],
 "metadata": {
  "kernelspec": {
   "display_name": "p3_11-olart",
   "language": "python",
   "name": "python3"
  },
  "language_info": {
   "codemirror_mode": {
    "name": "ipython",
    "version": 3
   },
   "file_extension": ".py",
   "mimetype": "text/x-python",
   "name": "python",
   "nbconvert_exporter": "python",
   "pygments_lexer": "ipython3",
   "version": "3.11.9"
  }
 },
 "nbformat": 4,
 "nbformat_minor": 2
}
